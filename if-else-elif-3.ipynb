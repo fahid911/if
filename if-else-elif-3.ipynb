{
 "cells": [
  {
   "cell_type": "code",
   "execution_count": 6,
   "metadata": {},
   "outputs": [
    {
     "name": "stdout",
     "output_type": "stream",
     "text": [
      "Number given by you is Positive\n"
     ]
    }
   ],
   "source": [
    "# 1) Write a program that checks if a number is negative, and prints \"The number is negative\" if it is.\n",
    "\n",
    "num1 =int(input(\"enter num 1 : \"))\n",
    "\n",
    "if num1 > 0 :\n",
    "        print(\"Number given by you is Positive\")   \n",
    "\n",
    "elif num1 > 0:   \n",
    "        print(\"Number given by you is Negative\")   \n",
    "\n",
    "else :  \n",
    "        print(\"Number given by you is zero\") "
   ]
  },
  {
   "cell_type": "code",
   "execution_count": 7,
   "metadata": {},
   "outputs": [
    {
     "name": "stdout",
     "output_type": "stream",
     "text": [
      "The provided number is odd\n"
     ]
    }
   ],
   "source": [
    "# 2) Write a program that checks if a number is odd, and prints \"The number is odd\" if it is.\n",
    "\n",
    "\n",
    "num = int (input (\"Enter any number to test whether it is odd or even: \"))\n",
    "\n",
    "if (num % 2) == 0:\n",
    "\n",
    "              print (\"The number is even\")\n",
    "\n",
    "else:\n",
    "\n",
    "              print (\"The provided number is odd\")\n"
   ]
  },
  {
   "cell_type": "code",
   "execution_count": 8,
   "metadata": {},
   "outputs": [
    {
     "name": "stdout",
     "output_type": "stream",
     "text": [
      "The price for your age category is: 10\n"
     ]
    }
   ],
   "source": [
    "# 3) Determining price categories based on age for a theme park\n",
    "# if age under 5, price 0,\n",
    "# age between 6 and 12  -> price 10\n",
    "# age between 13 and 65 -> price 20\n",
    "# age above 65 -> price 15\n",
    "\n",
    "age = int( input (\"enter your age :\"))\n",
    "\n",
    "if (num<5):\n",
    "    print(\"the price is 0 \")\n",
    "\n",
    " \n",
    "if age < 5: \n",
    "    price = 0 \n",
    "elif age <= 12: \n",
    "    price = 10 \n",
    "elif age <= 65: \n",
    "    price = 20 \n",
    "else: \n",
    "    price = 15 \n",
    " \n",
    "print(\"The price for your age category is:\", price)"
   ]
  },
  {
   "cell_type": "code",
   "execution_count": 9,
   "metadata": {},
   "outputs": [
    {
     "name": "stdout",
     "output_type": "stream",
     "text": [
      "F\n"
     ]
    }
   ],
   "source": [
    "# 4) Classifying a student's grade A, B, C, D, F\n",
    "\n",
    "\n",
    "grade = int(input(\"Enter your grade : \"))\n",
    "\n",
    "if grade >=90:\n",
    "    print (\"A\")\n",
    "\n",
    "elif grade >=80:\n",
    "    print(\"B\")\n",
    "\n",
    "elif grade >=70:\n",
    "    print(\"c\")\n",
    "\n",
    "elif grade >=60:\n",
    "    print(\"D\")\n",
    "\n",
    "else :\n",
    "    print(\"F\")\n",
    "\n"
   ]
  },
  {
   "cell_type": "code",
   "execution_count": 10,
   "metadata": {},
   "outputs": [
    {
     "name": "stdout",
     "output_type": "stream",
     "text": [
      "Try again\n"
     ]
    }
   ],
   "source": [
    "# 5) check password\n",
    "# username = \"admin\"\n",
    "# password = \"123456\"\n",
    "\n",
    "username =input((\"Enter your username: \"))\n",
    "password =input((\"Enter your password: \"))\n",
    "\n",
    "if username==\"admin\" and password == \"123456\":\n",
    "    print(\"pass\")\n",
    "else:\n",
    "    print (\"Try again\")    \n",
    "\n"
   ]
  },
  {
   "cell_type": "code",
   "execution_count": 14,
   "metadata": {},
   "outputs": [
    {
     "name": "stdout",
     "output_type": "stream",
     "text": [
      "190\n"
     ]
    }
   ],
   "source": [
    "# 6) dicount coupon\n",
    "# Discounts on a product based on a coupon code:DISCOUNT10 -> price - 10\n",
    "\n",
    "\n",
    "price = 200\n",
    "\n",
    "co = input(\"Enter the copupon : \")\n",
    "\n",
    "if (co ==\"DISCOUNT10\"):\n",
    "    print(price-10)\n",
    "else:\n",
    "    print(price)\n",
    "\n",
    "\n",
    "\n",
    "\n"
   ]
  }
 ],
 "metadata": {
  "kernelspec": {
   "display_name": "base",
   "language": "python",
   "name": "python3"
  },
  "language_info": {
   "codemirror_mode": {
    "name": "ipython",
    "version": 3
   },
   "file_extension": ".py",
   "mimetype": "text/x-python",
   "name": "python",
   "nbconvert_exporter": "python",
   "pygments_lexer": "ipython3",
   "version": "3.9.7"
  },
  "orig_nbformat": 4
 },
 "nbformat": 4,
 "nbformat_minor": 2
}
